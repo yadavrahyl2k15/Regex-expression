{
  "nbformat": 4,
  "nbformat_minor": 0,
  "metadata": {
    "colab": {
      "name": "Regex Expression.ipynb",
      "provenance": [],
      "authorship_tag": "ABX9TyNLcLLIp3/xjt0tBDOLn8mr",
      "include_colab_link": true
    },
    "kernelspec": {
      "name": "python3",
      "display_name": "Python 3"
    },
    "language_info": {
      "name": "python"
    }
  },
  "cells": [
    {
      "cell_type": "markdown",
      "metadata": {
        "id": "view-in-github",
        "colab_type": "text"
      },
      "source": [
        "<a href=\"https://colab.research.google.com/github/yadavrahyl2k15/Regex-expression/blob/main/Regex_Expression.ipynb\" target=\"_parent\"><img src=\"https://colab.research.google.com/assets/colab-badge.svg\" alt=\"Open In Colab\"/></a>"
      ]
    },
    {
      "cell_type": "code",
      "metadata": {
        "id": "5ZZ_aB2OPTAn"
      },
      "source": [
        "import re"
      ],
      "execution_count": null,
      "outputs": []
    },
    {
      "cell_type": "code",
      "metadata": {
        "colab": {
          "base_uri": "https://localhost:8080/"
        },
        "id": "CgNEnrKBPWOH",
        "outputId": "504f82bb-3ae2-43ab-ea75-a1a25a961965"
      },
      "source": [
        "#raw string\n",
        "print(r\"\\tRahul\")"
      ],
      "execution_count": null,
      "outputs": [
        {
          "output_type": "stream",
          "name": "stdout",
          "text": [
            "\\tRahul\n"
          ]
        }
      ]
    },
    {
      "cell_type": "code",
      "metadata": {
        "colab": {
          "base_uri": "https://localhost:8080/"
        },
        "id": "q9gzLQMiPfGg",
        "outputId": "451ce4fa-3d1c-4317-ec12-2c2674114aae"
      },
      "source": [
        "print(\"\\tRahul\")"
      ],
      "execution_count": null,
      "outputs": [
        {
          "output_type": "stream",
          "name": "stdout",
          "text": [
            "\tRahul\n"
          ]
        }
      ]
    },
    {
      "cell_type": "code",
      "metadata": {
        "id": "LPHyUYOwP_iQ"
      },
      "source": [
        "text=\"\"'my name is rahul and i am ook forward to future.'\"\""
      ],
      "execution_count": null,
      "outputs": []
    },
    {
      "cell_type": "code",
      "metadata": {
        "id": "VuF4xudDQ3wq"
      },
      "source": [
        "pattern=re.compile(r'ook')\n",
        "matches=pattern.finditer(text)"
      ],
      "execution_count": null,
      "outputs": []
    },
    {
      "cell_type": "code",
      "metadata": {
        "colab": {
          "base_uri": "https://localhost:8080/"
        },
        "id": "dikESAJ5Rkxj",
        "outputId": "3e36d63b-4550-4519-ff41-5d1cf1b3bced"
      },
      "source": [
        "for match in matches:\n",
        "  print(match)"
      ],
      "execution_count": null,
      "outputs": [
        {
          "output_type": "stream",
          "name": "stdout",
          "text": [
            "<re.Match object; span=(26, 29), match='ook'>\n"
          ]
        }
      ]
    },
    {
      "cell_type": "code",
      "metadata": {
        "colab": {
          "base_uri": "https://localhost:8080/",
          "height": 35
        },
        "id": "hxtb4aEaRqMn",
        "outputId": "23d32960-04fa-4adf-91d4-ad8bc4456937"
      },
      "source": [
        "text[26:29]"
      ],
      "execution_count": null,
      "outputs": [
        {
          "output_type": "execute_result",
          "data": {
            "application/vnd.google.colaboratory.intrinsic+json": {
              "type": "string"
            },
            "text/plain": [
              "'ook'"
            ]
          },
          "metadata": {},
          "execution_count": 13
        }
      ]
    },
    {
      "cell_type": "markdown",
      "metadata": {
        "id": "wyf5IapdS9DN"
      },
      "source": [
        "escaped characters:- . ^ $ * + - ? { } [ ] \\ ( ) |"
      ]
    },
    {
      "cell_type": "code",
      "metadata": {
        "id": "2VBW66-kR-WN"
      },
      "source": [
        "pattern=re.compile(r\"\\.\")\n",
        "matches=pattern.finditer(text)\n",
        "for match in matches:\n",
        "  print(match)"
      ],
      "execution_count": null,
      "outputs": []
    },
    {
      "cell_type": "markdown",
      "metadata": {
        "id": "Mf8oGVuNUxLZ"
      },
      "source": [
        ".  - any character except new line\n",
        "\\d - digits\n",
        "\\D - not a digits\n",
        "\\w - word character(a-z, A-Z,0-9,_)\n",
        "\\W - not a word character\n",
        "\\s - whitespaces,tab,new line\n",
        "\\S - not a whitespaces\n",
        "\n"
      ]
    },
    {
      "cell_type": "markdown",
      "metadata": {
        "id": "VE5_3qg0ftEr"
      },
      "source": [
        "\\b - word boundary\n",
        "\\B - mot a word boundary"
      ]
    },
    {
      "cell_type": "code",
      "metadata": {
        "colab": {
          "base_uri": "https://localhost:8080/"
        },
        "id": "RUl14RQoSpLh",
        "outputId": "627ff478-0d70-4727-ded3-5962a28d9a41"
      },
      "source": [
        "text=\"ha haha ha hahaha\"\n",
        "pattern=re.compile(r'\\bha')\n",
        "match=pattern.finditer(text)\n",
        "for m in match:\n",
        "  print(m)"
      ],
      "execution_count": null,
      "outputs": [
        {
          "output_type": "stream",
          "name": "stdout",
          "text": [
            "<re.Match object; span=(0, 2), match='ha'>\n",
            "<re.Match object; span=(3, 5), match='ha'>\n",
            "<re.Match object; span=(8, 10), match='ha'>\n",
            "<re.Match object; span=(11, 13), match='ha'>\n"
          ]
        }
      ]
    },
    {
      "cell_type": "code",
      "metadata": {
        "colab": {
          "base_uri": "https://localhost:8080/"
        },
        "id": "ChPcqpRZgEjx",
        "outputId": "2098c5ed-957e-4811-b9ea-6ee55686a597"
      },
      "source": [
        "text=\"ha haha ha hahaha\"\n",
        "pattern=re.compile(r'\\Bha')\n",
        "match=pattern.finditer(text)\n",
        "for m in match:\n",
        "  print(m)"
      ],
      "execution_count": null,
      "outputs": [
        {
          "output_type": "stream",
          "name": "stdout",
          "text": [
            "<re.Match object; span=(5, 7), match='ha'>\n",
            "<re.Match object; span=(13, 15), match='ha'>\n",
            "<re.Match object; span=(15, 17), match='ha'>\n"
          ]
        }
      ]
    },
    {
      "cell_type": "code",
      "metadata": {
        "id": "3IfbrcYOgQza",
        "colab": {
          "base_uri": "https://localhost:8080/"
        },
        "outputId": "4ad31af2-b111-40a4-f02f-9d9efbae5e11"
      },
      "source": [
        "import re\n",
        "phone=\"\"\"+91-8076103015  \n",
        "        08076103015\n",
        "        635-845-789\n",
        "        896.326.784\"\"\"\n",
        "pattern=re.compile(r\"\\d\\d\\d[-.]\\d\\d\\d[-.]\\d\\d\\d\")\n",
        "match=pattern.finditer(phone)\n",
        "for m in match:\n",
        "  print(m)"
      ],
      "execution_count": 3,
      "outputs": [
        {
          "output_type": "stream",
          "name": "stdout",
          "text": [
            "<re.Match object; span=(45, 56), match='635-845-789'>\n",
            "<re.Match object; span=(65, 76), match='896.326.784'>\n"
          ]
        }
      ]
    },
    {
      "cell_type": "code",
      "metadata": {
        "id": "_gZ68OKi2qAQ"
      },
      "source": [
        "number=\"\"\"91-8076103015\n",
        "          21-7894512745\n",
        "          8956237418\n",
        "          01-7849125326\n",
        "          211-789-154\n",
        "          +91-2536789456\"\"\"  "
      ],
      "execution_count": 4,
      "outputs": []
    },
    {
      "cell_type": "code",
      "metadata": {
        "colab": {
          "base_uri": "https://localhost:8080/"
        },
        "id": "9k5Qq1Og3z91",
        "outputId": "083539b0-962d-49ad-d9ef-c7ed2f248934"
      },
      "source": [
        "pattern=re.compile(r\"[0-9][0-9][-]\\d\\d\\d\\d\\d\\d\\d\\d\\d\\d\")\n",
        "match=pattern.finditer(number)\n",
        "for m in match:\n",
        "  print(m)"
      ],
      "execution_count": 5,
      "outputs": [
        {
          "output_type": "stream",
          "name": "stdout",
          "text": [
            "<re.Match object; span=(0, 13), match='91-8076103015'>\n",
            "<re.Match object; span=(24, 37), match='21-7894512745'>\n",
            "<re.Match object; span=(69, 82), match='01-7849125326'>\n",
            "<re.Match object; span=(116, 129), match='91-2536789456'>\n"
          ]
        }
      ]
    },
    {
      "cell_type": "code",
      "metadata": {
        "colab": {
          "base_uri": "https://localhost:8080/"
        },
        "id": "kCug9mSP4N14",
        "outputId": "3d884751-3183-4af0-86da-98a40a263abd"
      },
      "source": [
        "text=\"\"\"cat  mat pat yeah hat cat clap flap bat\"\"\"\n",
        "#if we want all whic end with at but not bat\n",
        "pattern=re.compile(r'[^b]at')                           #[^b] means not b \n",
        "match=pattern.finditer(text)\n",
        "for m in match:\n",
        "   print(m)"
      ],
      "execution_count": 9,
      "outputs": [
        {
          "output_type": "stream",
          "name": "stdout",
          "text": [
            "<re.Match object; span=(0, 3), match='cat'>\n",
            "<re.Match object; span=(5, 8), match='mat'>\n",
            "<re.Match object; span=(9, 12), match='pat'>\n",
            "<re.Match object; span=(18, 21), match='hat'>\n",
            "<re.Match object; span=(22, 25), match='cat'>\n"
          ]
        }
      ]
    },
    {
      "cell_type": "code",
      "metadata": {
        "id": "rfDUfWRbB6_Q"
      },
      "source": [
        "#using quantifiers\n",
        "# * ---- 0 or more\n",
        "# + ---- 1 or more\n",
        "# ? ---- 0 or 1\n",
        "# {3} ---- exact number\n",
        "#{3,5} ----- range of number\n"
      ],
      "execution_count": 16,
      "outputs": []
    },
    {
      "cell_type": "code",
      "metadata": {
        "colab": {
          "base_uri": "https://localhost:8080/"
        },
        "id": "u0wsH9NkC8DO",
        "outputId": "9ed67519-55d0-4295-c601-c87ccc53ed23"
      },
      "source": [
        "pattern=re.compile(r\"\\d{3}.\\d{3}.\\d{3}\")\n",
        "match=pattern.finditer(number)\n",
        "for m in match:\n",
        "  print(m)\n"
      ],
      "execution_count": 11,
      "outputs": [
        {
          "output_type": "stream",
          "name": "stdout",
          "text": [
            "<re.Match object; span=(93, 104), match='211-789-154'>\n"
          ]
        }
      ]
    },
    {
      "cell_type": "code",
      "metadata": {
        "colab": {
          "base_uri": "https://localhost:8080/"
        },
        "id": "Ldyz2z1TDX_g",
        "outputId": "3ecbf16f-4a11-4dba-bb1c-9bbdf606b567"
      },
      "source": [
        "text=\"\"\"Mr. Rahul\n",
        "        Mr DEV\n",
        "        Mr. sat\n",
        "        Ms yui\n",
        "        Mrs. zee\n",
        "        Mr T\"\"\"\n",
        "\n",
        "\n",
        "pattern=re.compile(r\"Mr\\.?\\s[A-Z]\\w*\")\n",
        "match=pattern.finditer(text)\n",
        "for m in match:\n",
        "  print(m)"
      ],
      "execution_count": 24,
      "outputs": [
        {
          "output_type": "stream",
          "name": "stdout",
          "text": [
            "<re.Match object; span=(0, 9), match='Mr. Rahul'>\n",
            "<re.Match object; span=(18, 24), match='Mr DEV'>\n",
            "<re.Match object; span=(81, 85), match='Mr T'>\n"
          ]
        }
      ]
    },
    {
      "cell_type": "code",
      "metadata": {
        "colab": {
          "base_uri": "https://localhost:8080/"
        },
        "id": "xGVgd8lhEVSY",
        "outputId": "cd02f5ad-4e7a-4f69-99a4-755c75d86b6d"
      },
      "source": [
        "\n",
        "pattern=re.compile(r\"Mr\\.?\\s[A-Z]\\w+\")\n",
        "match=pattern.finditer(text)\n",
        "for m in match:\n",
        "  print(m)"
      ],
      "execution_count": 25,
      "outputs": [
        {
          "output_type": "stream",
          "name": "stdout",
          "text": [
            "<re.Match object; span=(0, 9), match='Mr. Rahul'>\n",
            "<re.Match object; span=(18, 24), match='Mr DEV'>\n"
          ]
        }
      ]
    },
    {
      "cell_type": "code",
      "metadata": {
        "colab": {
          "base_uri": "https://localhost:8080/"
        },
        "id": "UiAVhE9nGIBv",
        "outputId": "2fce7f05-8faf-4919-9396-48159fc364e4"
      },
      "source": [
        "text=\"\"\"Mr. Rahul\n",
        "        Mr DEV\n",
        "        Mr. Sat\n",
        "        Ms Yui\n",
        "        Mrs. Zee\n",
        "        Mr T\"\"\"\n",
        "pattern=re.compile(r'M(r|s|rs)\\.?\\s[A-Z]\\w*')\n",
        "match=pattern.finditer(text)\n",
        "for m in match:\n",
        "  print(m)"
      ],
      "execution_count": 32,
      "outputs": [
        {
          "output_type": "stream",
          "name": "stdout",
          "text": [
            "<re.Match object; span=(0, 9), match='Mr. Rahul'>\n",
            "<re.Match object; span=(18, 24), match='Mr DEV'>\n",
            "<re.Match object; span=(33, 40), match='Mr. Sat'>\n",
            "<re.Match object; span=(49, 55), match='Ms Yui'>\n",
            "<re.Match object; span=(64, 72), match='Mrs. Zee'>\n",
            "<re.Match object; span=(81, 85), match='Mr T'>\n"
          ]
        }
      ]
    },
    {
      "cell_type": "code",
      "metadata": {
        "colab": {
          "base_uri": "https://localhost:8080/"
        },
        "id": "WSd0BHFeGeND",
        "outputId": "b87ba0ce-bff5-47ad-db5d-84fc92422a8f"
      },
      "source": [
        "emails=\"\"\"rahulinadana@gmail.com\n",
        "          nxhsj.hwdjwjd@djkd.edu\n",
        "          fhf-1023-bf@fhjd-hfh.net\"\"\"\n",
        "\n",
        "pattern=re.compile(r\"[a-zA-Z0-9.-]+@[a-zA-Z-]+\\.(com|edu|net)\")\n",
        "match=pattern.finditer(emails)\n",
        "for m in match:\n",
        "  print(m)\n"
      ],
      "execution_count": 37,
      "outputs": [
        {
          "output_type": "stream",
          "name": "stdout",
          "text": [
            "<re.Match object; span=(0, 22), match='rahulinadana@gmail.com'>\n",
            "<re.Match object; span=(33, 55), match='nxhsj.hwdjwjd@djkd.edu'>\n",
            "<re.Match object; span=(66, 90), match='fhf-1023-bf@fhjd-hfh.net'>\n"
          ]
        }
      ]
    },
    {
      "cell_type": "code",
      "metadata": {
        "colab": {
          "base_uri": "https://localhost:8080/"
        },
        "id": "Pt9u1CLbI-9a",
        "outputId": "d6a445ce-8ae0-4cd1-cefd-ef19789f847e"
      },
      "source": [
        "urls=\"\"\"https://www.google.com\n",
        "        http://youtube.com\n",
        "        https://yahoo.edu\n",
        "        https://www udemy.lre\"\"\"\n",
        "\n",
        "pattern= re.compile(r'https?://(www\\.|www\\s)?\\w+\\.\\w+')\n",
        "match=pattern.finditer(urls)\n",
        "for m in match:\n",
        "  print(m)"
      ],
      "execution_count": 42,
      "outputs": [
        {
          "output_type": "stream",
          "name": "stdout",
          "text": [
            "<re.Match object; span=(0, 22), match='https://www.google.com'>\n",
            "<re.Match object; span=(31, 49), match='http://youtube.com'>\n",
            "<re.Match object; span=(58, 75), match='https://yahoo.edu'>\n",
            "<re.Match object; span=(84, 105), match='https://www udemy.lre'>\n"
          ]
        }
      ]
    },
    {
      "cell_type": "code",
      "metadata": {
        "colab": {
          "base_uri": "https://localhost:8080/"
        },
        "id": "LADhdi0VLXF5",
        "outputId": "9aebb256-e3a5-472d-ddcf-47b234695e26"
      },
      "source": [
        "pattern= re.compile(r'https?://(www\\.|www\\s)?\\w+\\.\\w+')\n",
        "match=pattern.finditer(urls)\n",
        "for m in match:\n",
        "  print(\"GROUP 1:-\", m.group(1))\n",
        "  print(\"GROUP 2:-\",m.group(0))\n",
        "  \n"
      ],
      "execution_count": 47,
      "outputs": [
        {
          "output_type": "stream",
          "name": "stdout",
          "text": [
            "GROUP 1:- www.\n",
            "GROUP 2:- https://www.google.com\n",
            "GROUP 1:- None\n",
            "GROUP 2:- http://youtube.com\n",
            "GROUP 1:- None\n",
            "GROUP 2:- https://yahoo.edu\n",
            "GROUP 1:- www \n",
            "GROUP 2:- https://www udemy.lre\n"
          ]
        }
      ]
    },
    {
      "cell_type": "code",
      "metadata": {
        "colab": {
          "base_uri": "https://localhost:8080/"
        },
        "id": "za5ZzMGuMVgW",
        "outputId": "7f2c2902-94ae-4b3a-d8b0-ae09bb626759"
      },
      "source": [
        "pattern= re.compile(r'https?://(www\\.|www\\s)?(\\w+)(\\.\\w+)')\n",
        "match=pattern.finditer(urls)\n",
        "for m in match:\n",
        "  print(\"GROUP 0:-\", m.group(0))\n",
        "  print(\"GROUP 1:-\",m.group(1))\n",
        "  print(\"GROUP 2:-\",m.group(2))\n",
        "  print(\"GROUP 3:-\",m.group(3))"
      ],
      "execution_count": 48,
      "outputs": [
        {
          "output_type": "stream",
          "name": "stdout",
          "text": [
            "GROUP 0:- https://www.google.com\n",
            "GROUP 1:- www.\n",
            "GROUP 2:- google\n",
            "GROUP 3:- .com\n",
            "GROUP 0:- http://youtube.com\n",
            "GROUP 1:- None\n",
            "GROUP 2:- youtube\n",
            "GROUP 3:- .com\n",
            "GROUP 0:- https://yahoo.edu\n",
            "GROUP 1:- None\n",
            "GROUP 2:- yahoo\n",
            "GROUP 3:- .edu\n",
            "GROUP 0:- https://www udemy.lre\n",
            "GROUP 1:- www \n",
            "GROUP 2:- udemy\n",
            "GROUP 3:- .lre\n"
          ]
        }
      ]
    },
    {
      "cell_type": "code",
      "metadata": {
        "colab": {
          "base_uri": "https://localhost:8080/"
        },
        "id": "tmw_e9WVN3P4",
        "outputId": "5df9efab-8145-4e52-9868-65a38c435202"
      },
      "source": [
        "#SUBSTITUITION OF PATTERNS\n",
        "pattern= re.compile(r'https?://(www\\.|www\\s)?(\\w+)(\\.\\w+)')\n",
        "\n",
        "subb_urls=pattern.sub(r\"\\2\\3\",urls)\n",
        "print(subb_urls)\n"
      ],
      "execution_count": 50,
      "outputs": [
        {
          "output_type": "stream",
          "name": "stdout",
          "text": [
            "google.com\n",
            "        youtube.com\n",
            "        yahoo.edu\n",
            "        udemy.lre\n"
          ]
        }
      ]
    },
    {
      "cell_type": "markdown",
      "metadata": {
        "id": "vx-YrlG2OQUA"
      },
      "source": [
        "\n",
        "\n",
        "1.   finditer---- returs many information i.e. position,index etc\n",
        "2.   findall----- returns only matches\n",
        "\n"
      ]
    },
    {
      "cell_type": "code",
      "metadata": {
        "id": "KzzJ-mSKPegK"
      },
      "source": [
        ""
      ],
      "execution_count": null,
      "outputs": []
    }
  ]
}